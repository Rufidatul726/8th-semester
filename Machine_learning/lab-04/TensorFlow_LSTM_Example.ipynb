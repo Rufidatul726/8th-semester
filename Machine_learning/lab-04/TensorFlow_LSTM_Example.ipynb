{
  "nbformat": 4,
  "nbformat_minor": 0,
  "metadata": {
    "colab": {
      "provenance": [],
      "gpuType": "T4"
    },
    "kernelspec": {
      "name": "python3",
      "display_name": "Python 3"
    },
    "language_info": {
      "name": "python"
    },
    "accelerator": "GPU"
  },
  "cells": [
    {
      "cell_type": "code",
      "source": [
        "!pip install nltk"
      ],
      "metadata": {
        "colab": {
          "base_uri": "https://localhost:8080/"
        },
        "id": "grAz-bvbIDkC",
        "outputId": "12f6da95-0cbd-4792-bcf5-ff5092640e66"
      },
      "execution_count": 1,
      "outputs": [
        {
          "output_type": "stream",
          "name": "stdout",
          "text": [
            "Requirement already satisfied: nltk in /usr/local/lib/python3.10/dist-packages (3.9.1)\n",
            "Requirement already satisfied: click in /usr/local/lib/python3.10/dist-packages (from nltk) (8.1.7)\n",
            "Requirement already satisfied: joblib in /usr/local/lib/python3.10/dist-packages (from nltk) (1.4.2)\n",
            "Requirement already satisfied: regex>=2021.8.3 in /usr/local/lib/python3.10/dist-packages (from nltk) (2024.9.11)\n",
            "Requirement already satisfied: tqdm in /usr/local/lib/python3.10/dist-packages (from nltk) (4.66.6)\n"
          ]
        }
      ]
    },
    {
      "cell_type": "code",
      "source": [
        "import nltk\n",
        "\n",
        "nltk.download('punkt')\n",
        "nltk.download('stopwords')\n",
        "nltk.download('punkt_tab')"
      ],
      "metadata": {
        "colab": {
          "base_uri": "https://localhost:8080/"
        },
        "id": "UJjVDeE4IBkv",
        "outputId": "6c9097f8-8ce6-449d-90ec-73772d844b1b"
      },
      "execution_count": 2,
      "outputs": [
        {
          "output_type": "stream",
          "name": "stderr",
          "text": [
            "[nltk_data] Downloading package punkt to /root/nltk_data...\n",
            "[nltk_data]   Unzipping tokenizers/punkt.zip.\n",
            "[nltk_data] Downloading package stopwords to /root/nltk_data...\n",
            "[nltk_data]   Unzipping corpora/stopwords.zip.\n",
            "[nltk_data] Downloading package punkt_tab to /root/nltk_data...\n",
            "[nltk_data]   Unzipping tokenizers/punkt_tab.zip.\n"
          ]
        },
        {
          "output_type": "execute_result",
          "data": {
            "text/plain": [
              "True"
            ]
          },
          "metadata": {},
          "execution_count": 2
        }
      ]
    },
    {
      "cell_type": "code",
      "execution_count": 31,
      "metadata": {
        "colab": {
          "base_uri": "https://localhost:8080/"
        },
        "id": "K2jHwbmAHmIg",
        "outputId": "7db5fcc1-05bf-424a-b9a4-fba8dda88352"
      },
      "outputs": [
        {
          "output_type": "stream",
          "name": "stdout",
          "text": [
            "Epoch 1/10\n"
          ]
        },
        {
          "output_type": "stream",
          "name": "stderr",
          "text": [
            "/usr/local/lib/python3.10/dist-packages/keras/src/layers/rnn/rnn.py:204: UserWarning: Do not pass an `input_shape`/`input_dim` argument to a layer. When using Sequential models, prefer using an `Input(shape)` object as the first layer in the model instead.\n",
            "  super().__init__(**kwargs)\n"
          ]
        },
        {
          "output_type": "stream",
          "name": "stdout",
          "text": [
            "\u001b[1m3/3\u001b[0m \u001b[32m━━━━━━━━━━━━━━━━━━━━\u001b[0m\u001b[37m\u001b[0m \u001b[1m1s\u001b[0m 7ms/step - loss: 0.2511\n",
            "Epoch 2/10\n",
            "\u001b[1m3/3\u001b[0m \u001b[32m━━━━━━━━━━━━━━━━━━━━\u001b[0m\u001b[37m\u001b[0m \u001b[1m0s\u001b[0m 9ms/step - loss: 0.1675 \n",
            "Epoch 3/10\n",
            "\u001b[1m3/3\u001b[0m \u001b[32m━━━━━━━━━━━━━━━━━━━━\u001b[0m\u001b[37m\u001b[0m \u001b[1m0s\u001b[0m 8ms/step - loss: 0.1253 \n",
            "Epoch 4/10\n",
            "\u001b[1m3/3\u001b[0m \u001b[32m━━━━━━━━━━━━━━━━━━━━\u001b[0m\u001b[37m\u001b[0m \u001b[1m0s\u001b[0m 9ms/step - loss: 0.0981 \n",
            "Epoch 5/10\n",
            "\u001b[1m3/3\u001b[0m \u001b[32m━━━━━━━━━━━━━━━━━━━━\u001b[0m\u001b[37m\u001b[0m \u001b[1m0s\u001b[0m 9ms/step - loss: 0.0981 \n",
            "Epoch 6/10\n",
            "\u001b[1m3/3\u001b[0m \u001b[32m━━━━━━━━━━━━━━━━━━━━\u001b[0m\u001b[37m\u001b[0m \u001b[1m0s\u001b[0m 7ms/step - loss: 0.1152 \n",
            "Epoch 7/10\n",
            "\u001b[1m3/3\u001b[0m \u001b[32m━━━━━━━━━━━━━━━━━━━━\u001b[0m\u001b[37m\u001b[0m \u001b[1m0s\u001b[0m 8ms/step - loss: 0.1033 \n",
            "Epoch 8/10\n",
            "\u001b[1m3/3\u001b[0m \u001b[32m━━━━━━━━━━━━━━━━━━━━\u001b[0m\u001b[37m\u001b[0m \u001b[1m0s\u001b[0m 7ms/step - loss: 0.1020 \n",
            "Epoch 9/10\n",
            "\u001b[1m3/3\u001b[0m \u001b[32m━━━━━━━━━━━━━━━━━━━━\u001b[0m\u001b[37m\u001b[0m \u001b[1m0s\u001b[0m 7ms/step - loss: 0.0906 \n",
            "Epoch 10/10\n",
            "\u001b[1m3/3\u001b[0m \u001b[32m━━━━━━━━━━━━━━━━━━━━\u001b[0m\u001b[37m\u001b[0m \u001b[1m0s\u001b[0m 7ms/step - loss: 0.0932 \n"
          ]
        },
        {
          "output_type": "execute_result",
          "data": {
            "text/plain": [
              "<keras.src.callbacks.history.History at 0x7a9735bed9c0>"
            ]
          },
          "metadata": {},
          "execution_count": 31
        }
      ],
      "source": [
        "import tensorflow as tf\n",
        "import numpy as np\n",
        "\n",
        "# Sample data (replace with your actual data)\n",
        "data = np.random.rand(100, 1)\n",
        "\n",
        "# Function to create sequences for training\n",
        "def create_sequences(data, seq_length):\n",
        "    X, y = [], []\n",
        "    for i in range(len(data) - seq_length):\n",
        "        X.append(data[i:(i+seq_length), 0])\n",
        "        y.append(data[i+seq_length, 0])\n",
        "    return np.array(X), np.array(y)\n",
        "\n",
        "# Define sequence length\n",
        "seq_length = 10\n",
        "\n",
        "# Create sequences from the data\n",
        "X, y = create_sequences(data, seq_length)\n",
        "\n",
        "# Reshape input data to 3D format (batch_size, seq_length, features)\n",
        "X = np.reshape(X, (X.shape[0], X.shape[1], 1))\n",
        "\n",
        "# Define the LSTM model\n",
        "model = tf.keras.Sequential([\n",
        "    tf.keras.layers.LSTM(64, input_shape=(seq_length, 1)),\n",
        "    tf.keras.layers.Dense(1)\n",
        "])\n",
        "\n",
        "# Compile the model\n",
        "model.compile(loss='mean_squared_error', optimizer='adam')\n",
        "\n",
        "# Train the model\n",
        "model.fit(X, y, epochs=10, batch_size=32)"
      ]
    },
    {
      "cell_type": "code",
      "source": [
        "from nltk.tokenize import sent_tokenize\n",
        "\n",
        "with open('Alice.txt', 'r') as f:\n",
        "    text = f.read()\n",
        "\n",
        "sentences = sent_tokenize(text)\n"
      ],
      "metadata": {
        "id": "Q1vamajQI132"
      },
      "execution_count": 4,
      "outputs": []
    },
    {
      "cell_type": "code",
      "source": [
        "from nltk.corpus import stopwords\n",
        "\n",
        "stop_words = set(stopwords.words('english'))\n",
        "\n",
        "preprocessed_sentences = []\n",
        "\n",
        "for sentence in sentences:\n",
        "    words = sentence.lower().split()\n",
        "    filtered_words = [word for word in words if word not in stop_words]\n",
        "    preprocessed_sentences.append(filtered_words)\n"
      ],
      "metadata": {
        "id": "dEZRTdimJxXw"
      },
      "execution_count": 5,
      "outputs": []
    },
    {
      "cell_type": "code",
      "source": [
        "import pandas as pd\n",
        "import numpy as np\n",
        "\n",
        "# Generate random data\n",
        "data = {'Value': np.random.randn(1000)}\n",
        "\n",
        "# Create a DataFrame\n",
        "df = pd.DataFrame(data)\n",
        "\n",
        "# Save as CSV\n",
        "df.to_csv('dataset.csv', index=False)\n",
        "\n",
        "print(\"Dataset.csv created successfully!\")"
      ],
      "metadata": {
        "colab": {
          "base_uri": "https://localhost:8080/"
        },
        "id": "vyAVVvANKrRs",
        "outputId": "a370dae7-58a4-4ebb-e46b-62242e1850ff"
      },
      "execution_count": 6,
      "outputs": [
        {
          "output_type": "stream",
          "name": "stdout",
          "text": [
            "Dataset.csv created successfully!\n"
          ]
        }
      ]
    },
    {
      "cell_type": "code",
      "source": [
        "import pandas as pd\n",
        "\n",
        "# Load dataset\n",
        "data = pd.read_csv('dataset.csv')\n",
        "\n",
        "# Split into train and test sets\n",
        "train_size = int(len(data) * 0.8)\n",
        "train_data, test_data = data[:train_size], data[train_size:]\n"
      ],
      "metadata": {
        "id": "cBIxsuluJ4VZ"
      },
      "execution_count": 7,
      "outputs": []
    },
    {
      "cell_type": "code",
      "source": [
        "\n",
        "from sklearn.preprocessing import MinMaxScaler\n",
        "\n",
        "# Normalize data\n",
        "scaler = MinMaxScaler()\n",
        "train_data = scaler.fit_transform(train_data)\n",
        "test_data = scaler.transform(test_data)\n"
      ],
      "metadata": {
        "id": "vv-sfNo5KRe0"
      },
      "execution_count": 8,
      "outputs": []
    },
    {
      "cell_type": "code",
      "source": [
        "\n",
        "import numpy as np\n",
        "\n",
        "def create_sequences(data, seq_length):\n",
        "    X = []\n",
        "    y = []\n",
        "    for i in range(len(data) - seq_length):\n",
        "        X.append(data[i:i+seq_length])\n",
        "        y.append(data[i+seq_length])\n",
        "    return np.array(X), np.array(y)\n",
        "\n",
        "# Define sequence length\n",
        "seq_length = 50\n",
        "\n",
        "# Create sequences for training set\n",
        "X_train, y_train = create_sequences(train_data, seq_length)\n",
        "\n",
        "# Create sequences for testing set\n",
        "X_test, y_test = create_sequences(test_data, seq_length)\n",
        "\n",
        "print(X_train.shape)\n",
        "print(y_train.shape)\n",
        "print(X_test.shape)\n",
        "print(y_test.shape)\n",
        "\n",
        "# Reshape input data\n",
        "X_train = X_train.reshape((X_train.shape[0], X_train.shape[1], 1))\n",
        "X_test = X_test.reshape((X_test.shape[0], X_test.shape[1], 1))\n"
      ],
      "metadata": {
        "colab": {
          "base_uri": "https://localhost:8080/"
        },
        "id": "VSAkHaFgKXRe",
        "outputId": "558a2b47-9302-4286-ef2c-acd5004eeafa"
      },
      "execution_count": 32,
      "outputs": [
        {
          "output_type": "stream",
          "name": "stdout",
          "text": [
            "(750, 50, 1)\n",
            "(750, 1)\n",
            "(150, 50, 1)\n",
            "(150, 1)\n"
          ]
        }
      ]
    },
    {
      "cell_type": "code",
      "source": [
        "import tensorflow as tf\n",
        "from tensorflow.keras.models import Sequential\n",
        "from tensorflow.keras.layers import LSTM, Dense\n"
      ],
      "metadata": {
        "id": "kUcDW4slNKrd"
      },
      "execution_count": 10,
      "outputs": []
    },
    {
      "cell_type": "code",
      "source": [
        "model = Sequential()\n",
        "model.add(LSTM(units=128, return_sequences=True, input_shape=(X_train.shape[1], X_train.shape[2])))"
      ],
      "metadata": {
        "colab": {
          "base_uri": "https://localhost:8080/"
        },
        "id": "hn47zczwNhMo",
        "outputId": "da332fb3-750e-43c2-95f9-97c1d3984436"
      },
      "execution_count": 11,
      "outputs": [
        {
          "output_type": "stream",
          "name": "stderr",
          "text": [
            "/usr/local/lib/python3.10/dist-packages/keras/src/layers/rnn/rnn.py:204: UserWarning: Do not pass an `input_shape`/`input_dim` argument to a layer. When using Sequential models, prefer using an `Input(shape)` object as the first layer in the model instead.\n",
            "  super().__init__(**kwargs)\n"
          ]
        }
      ]
    },
    {
      "cell_type": "code",
      "source": [
        "\n",
        "model.add(LSTM(units=64, return_sequences=True))\n",
        "model.add(LSTM(units=64, return_sequences=True))\n"
      ],
      "metadata": {
        "id": "7rPn-xHvNm3b"
      },
      "execution_count": 12,
      "outputs": []
    },
    {
      "cell_type": "code",
      "source": [
        "\n",
        "model.add(Dense(units=1))\n",
        "model.compile(loss='mean_squared_error', optimizer='adam')\n"
      ],
      "metadata": {
        "id": "URY2ETHuNrHP"
      },
      "execution_count": 13,
      "outputs": []
    },
    {
      "cell_type": "code",
      "source": [
        "\n",
        "model.compile(loss='mean_squared_error', optimizer='adam')\n"
      ],
      "metadata": {
        "id": "SMpfSSSBN1_j"
      },
      "execution_count": 14,
      "outputs": []
    },
    {
      "cell_type": "code",
      "source": [
        "\n",
        "history = model.fit(X_train, y_train, epochs=100, batch_size=1, verbose=2)\n"
      ],
      "metadata": {
        "colab": {
          "base_uri": "https://localhost:8080/"
        },
        "id": "hlkdj8RVN4-m",
        "outputId": "382b80e2-a7af-49f3-a1ad-9add4bf801b1"
      },
      "execution_count": 21,
      "outputs": [
        {
          "output_type": "stream",
          "name": "stdout",
          "text": [
            "Epoch 1/100\n",
            "750/750 - 9s - 12ms/step - loss: 0.0257\n",
            "Epoch 2/100\n",
            "750/750 - 10s - 13ms/step - loss: 0.0259\n",
            "Epoch 3/100\n",
            "750/750 - 7s - 9ms/step - loss: 0.0259\n",
            "Epoch 4/100\n",
            "750/750 - 11s - 15ms/step - loss: 0.0258\n",
            "Epoch 5/100\n",
            "750/750 - 11s - 15ms/step - loss: 0.0259\n",
            "Epoch 6/100\n",
            "750/750 - 9s - 12ms/step - loss: 0.0258\n",
            "Epoch 7/100\n",
            "750/750 - 8s - 11ms/step - loss: 0.0258\n",
            "Epoch 8/100\n",
            "750/750 - 10s - 13ms/step - loss: 0.0259\n",
            "Epoch 9/100\n",
            "750/750 - 7s - 10ms/step - loss: 0.0259\n",
            "Epoch 10/100\n",
            "750/750 - 10s - 14ms/step - loss: 0.0255\n",
            "Epoch 11/100\n",
            "750/750 - 8s - 11ms/step - loss: 0.0258\n",
            "Epoch 12/100\n",
            "750/750 - 7s - 9ms/step - loss: 0.0256\n",
            "Epoch 13/100\n",
            "750/750 - 8s - 11ms/step - loss: 0.0258\n",
            "Epoch 14/100\n",
            "750/750 - 7s - 9ms/step - loss: 0.0259\n",
            "Epoch 15/100\n",
            "750/750 - 10s - 14ms/step - loss: 0.0257\n",
            "Epoch 16/100\n",
            "750/750 - 11s - 14ms/step - loss: 0.0258\n",
            "Epoch 17/100\n",
            "750/750 - 8s - 11ms/step - loss: 0.0258\n",
            "Epoch 18/100\n",
            "750/750 - 9s - 12ms/step - loss: 0.0258\n",
            "Epoch 19/100\n",
            "750/750 - 10s - 14ms/step - loss: 0.0256\n",
            "Epoch 20/100\n",
            "750/750 - 11s - 15ms/step - loss: 0.0257\n",
            "Epoch 21/100\n",
            "750/750 - 10s - 14ms/step - loss: 0.0259\n",
            "Epoch 22/100\n",
            "750/750 - 7s - 9ms/step - loss: 0.0259\n",
            "Epoch 23/100\n",
            "750/750 - 10s - 13ms/step - loss: 0.0258\n",
            "Epoch 24/100\n",
            "750/750 - 8s - 10ms/step - loss: 0.0256\n",
            "Epoch 25/100\n",
            "750/750 - 8s - 10ms/step - loss: 0.0258\n",
            "Epoch 26/100\n",
            "750/750 - 8s - 11ms/step - loss: 0.0258\n",
            "Epoch 27/100\n",
            "750/750 - 9s - 12ms/step - loss: 0.0258\n",
            "Epoch 28/100\n",
            "750/750 - 8s - 11ms/step - loss: 0.0256\n",
            "Epoch 29/100\n",
            "750/750 - 8s - 10ms/step - loss: 0.0259\n",
            "Epoch 30/100\n",
            "750/750 - 10s - 13ms/step - loss: 0.0258\n",
            "Epoch 31/100\n",
            "750/750 - 10s - 13ms/step - loss: 0.0258\n",
            "Epoch 32/100\n",
            "750/750 - 11s - 15ms/step - loss: 0.0257\n",
            "Epoch 33/100\n",
            "750/750 - 8s - 10ms/step - loss: 0.0260\n",
            "Epoch 34/100\n",
            "750/750 - 7s - 10ms/step - loss: 0.0256\n",
            "Epoch 35/100\n",
            "750/750 - 11s - 15ms/step - loss: 0.0258\n",
            "Epoch 36/100\n",
            "750/750 - 10s - 13ms/step - loss: 0.0257\n",
            "Epoch 37/100\n",
            "750/750 - 7s - 9ms/step - loss: 0.0258\n",
            "Epoch 38/100\n",
            "750/750 - 8s - 11ms/step - loss: 0.0258\n",
            "Epoch 39/100\n",
            "750/750 - 10s - 13ms/step - loss: 0.0258\n",
            "Epoch 40/100\n",
            "750/750 - 10s - 13ms/step - loss: 0.0256\n",
            "Epoch 41/100\n",
            "750/750 - 8s - 11ms/step - loss: 0.0257\n",
            "Epoch 42/100\n",
            "750/750 - 11s - 15ms/step - loss: 0.0257\n",
            "Epoch 43/100\n",
            "750/750 - 7s - 9ms/step - loss: 0.0256\n",
            "Epoch 44/100\n",
            "750/750 - 8s - 11ms/step - loss: 0.0257\n",
            "Epoch 45/100\n",
            "750/750 - 7s - 9ms/step - loss: 0.0258\n",
            "Epoch 46/100\n",
            "750/750 - 8s - 11ms/step - loss: 0.0258\n",
            "Epoch 47/100\n",
            "750/750 - 7s - 10ms/step - loss: 0.0258\n",
            "Epoch 48/100\n",
            "750/750 - 10s - 13ms/step - loss: 0.0258\n",
            "Epoch 49/100\n",
            "750/750 - 8s - 11ms/step - loss: 0.0257\n",
            "Epoch 50/100\n",
            "750/750 - 10s - 13ms/step - loss: 0.0257\n",
            "Epoch 51/100\n",
            "750/750 - 7s - 10ms/step - loss: 0.0257\n",
            "Epoch 52/100\n",
            "750/750 - 8s - 11ms/step - loss: 0.0255\n",
            "Epoch 53/100\n",
            "750/750 - 9s - 13ms/step - loss: 0.0258\n",
            "Epoch 54/100\n",
            "750/750 - 10s - 13ms/step - loss: 0.0257\n",
            "Epoch 55/100\n",
            "750/750 - 10s - 14ms/step - loss: 0.0257\n",
            "Epoch 56/100\n",
            "750/750 - 12s - 17ms/step - loss: 0.0257\n",
            "Epoch 57/100\n",
            "750/750 - 8s - 11ms/step - loss: 0.0257\n",
            "Epoch 58/100\n",
            "750/750 - 7s - 9ms/step - loss: 0.0257\n",
            "Epoch 59/100\n",
            "750/750 - 8s - 11ms/step - loss: 0.0257\n",
            "Epoch 60/100\n",
            "750/750 - 7s - 10ms/step - loss: 0.0257\n",
            "Epoch 61/100\n",
            "750/750 - 8s - 11ms/step - loss: 0.0257\n",
            "Epoch 62/100\n",
            "750/750 - 10s - 14ms/step - loss: 0.0257\n",
            "Epoch 63/100\n",
            "750/750 - 9s - 12ms/step - loss: 0.0254\n",
            "Epoch 64/100\n",
            "750/750 - 10s - 13ms/step - loss: 0.0258\n",
            "Epoch 65/100\n",
            "750/750 - 8s - 11ms/step - loss: 0.0258\n",
            "Epoch 66/100\n",
            "750/750 - 10s - 13ms/step - loss: 0.0258\n",
            "Epoch 67/100\n",
            "750/750 - 8s - 10ms/step - loss: 0.0257\n",
            "Epoch 68/100\n",
            "750/750 - 11s - 14ms/step - loss: 0.0257\n",
            "Epoch 69/100\n",
            "750/750 - 7s - 10ms/step - loss: 0.0257\n",
            "Epoch 70/100\n",
            "750/750 - 8s - 11ms/step - loss: 0.0257\n",
            "Epoch 71/100\n",
            "750/750 - 10s - 14ms/step - loss: 0.0257\n",
            "Epoch 72/100\n",
            "750/750 - 9s - 12ms/step - loss: 0.0256\n",
            "Epoch 73/100\n",
            "750/750 - 8s - 11ms/step - loss: 0.0256\n",
            "Epoch 74/100\n",
            "750/750 - 10s - 14ms/step - loss: 0.0257\n",
            "Epoch 75/100\n",
            "750/750 - 7s - 9ms/step - loss: 0.0257\n",
            "Epoch 76/100\n",
            "750/750 - 8s - 11ms/step - loss: 0.0255\n",
            "Epoch 77/100\n",
            "750/750 - 8s - 11ms/step - loss: 0.0258\n",
            "Epoch 78/100\n",
            "750/750 - 9s - 12ms/step - loss: 0.0257\n",
            "Epoch 79/100\n",
            "750/750 - 11s - 15ms/step - loss: 0.0258\n",
            "Epoch 80/100\n",
            "750/750 - 11s - 14ms/step - loss: 0.0256\n",
            "Epoch 81/100\n",
            "750/750 - 7s - 9ms/step - loss: 0.0257\n",
            "Epoch 82/100\n",
            "750/750 - 8s - 11ms/step - loss: 0.0256\n",
            "Epoch 83/100\n",
            "750/750 - 7s - 10ms/step - loss: 0.0257\n",
            "Epoch 84/100\n",
            "750/750 - 10s - 13ms/step - loss: 0.0256\n",
            "Epoch 85/100\n",
            "750/750 - 9s - 11ms/step - loss: 0.0255\n",
            "Epoch 86/100\n",
            "750/750 - 10s - 13ms/step - loss: 0.0257\n",
            "Epoch 87/100\n",
            "750/750 - 7s - 9ms/step - loss: 0.0257\n",
            "Epoch 88/100\n",
            "750/750 - 8s - 11ms/step - loss: 0.0257\n",
            "Epoch 89/100\n",
            "750/750 - 7s - 9ms/step - loss: 0.0257\n",
            "Epoch 90/100\n",
            "750/750 - 12s - 16ms/step - loss: 0.0256\n",
            "Epoch 91/100\n",
            "750/750 - 8s - 11ms/step - loss: 0.0256\n",
            "Epoch 92/100\n",
            "750/750 - 7s - 10ms/step - loss: 0.0256\n",
            "Epoch 93/100\n",
            "750/750 - 8s - 11ms/step - loss: 0.0256\n",
            "Epoch 94/100\n",
            "750/750 - 7s - 9ms/step - loss: 0.0256\n",
            "Epoch 95/100\n",
            "750/750 - 8s - 11ms/step - loss: 0.0257\n",
            "Epoch 96/100\n",
            "750/750 - 8s - 10ms/step - loss: 0.0257\n",
            "Epoch 97/100\n",
            "750/750 - 10s - 13ms/step - loss: 0.0256\n",
            "Epoch 98/100\n",
            "750/750 - 10s - 14ms/step - loss: 0.0254\n",
            "Epoch 99/100\n",
            "750/750 - 8s - 11ms/step - loss: 0.0256\n",
            "Epoch 100/100\n",
            "750/750 - 9s - 13ms/step - loss: 0.0257\n"
          ]
        }
      ]
    },
    {
      "cell_type": "code",
      "source": [
        "import matplotlib.pyplot as plt\n",
        "\n",
        "plt.plot(history.history['loss'])\n",
        "plt.title('Model Loss')\n",
        "plt.ylabel('Loss')\n",
        "plt.xlabel('Epoch')\n",
        "plt.show()\n"
      ],
      "metadata": {
        "colab": {
          "base_uri": "https://localhost:8080/",
          "height": 472
        },
        "id": "iuf9N0MrN9RO",
        "outputId": "7bbbc4c2-a6c6-4739-e42f-ebde48e8399a"
      },
      "execution_count": 22,
      "outputs": [
        {
          "output_type": "display_data",
          "data": {
            "text/plain": [
              "<Figure size 640x480 with 1 Axes>"
            ],
            "image/png": "[encoded data removed]"
          },
          "metadata": {}
        }
      ]
    },
    {
      "cell_type": "code",
      "source": [
        "import math\n",
        "\n",
        "trainScore = model.evaluate(X_train, y_train, verbose=0)\n",
        "print('Train Score: %.2f MSE (%.2f RMSE)' % (trainScore, math.sqrt(trainScore)))\n",
        "testScore = model.evaluate(X_test, y_test, verbose=0)\n",
        "print('Test Score: %.2f MSE (%.2f RMSE)' % (testScore, math.sqrt(testScore)))\n"
      ],
      "metadata": {
        "colab": {
          "base_uri": "https://localhost:8080/"
        },
        "id": "q5qTFDa2OC6W",
        "outputId": "59994dcd-68a9-4301-8425-267e6e63fbbd"
      },
      "execution_count": 25,
      "outputs": [
        {
          "output_type": "stream",
          "name": "stdout",
          "text": [
            "Train Score: 0.03 MSE (0.16 RMSE)\n",
            "Test Score: 0.03 MSE (0.18 RMSE)\n"
          ]
        }
      ]
    },
    {
      "cell_type": "code",
      "source": [
        "test_data.shape\n",
        "test_labels = test_data[:, 0]\n",
        "test_labels.shape"
      ],
      "metadata": {
        "colab": {
          "base_uri": "https://localhost:8080/"
        },
        "id": "n7xqrauVXgTz",
        "outputId": "c8683b4c-3c82-44e0-8f4b-0ec7296ea1be"
      },
      "execution_count": 41,
      "outputs": [
        {
          "output_type": "execute_result",
          "data": {
            "text/plain": [
              "(200,)"
            ]
          },
          "metadata": {},
          "execution_count": 41
        }
      ]
    },
    {
      "cell_type": "code",
      "source": [
        "loss = model.evaluate(test_data, test_labels)\n",
        "print(\"Loss:\", loss)\n"
      ],
      "metadata": {
        "colab": {
          "base_uri": "https://localhost:8080/"
        },
        "id": "zhc1Cdm-Ofdb",
        "outputId": "0f83f6f6-27a5-4cf1-c39d-6bf619161404"
      },
      "execution_count": 43,
      "outputs": [
        {
          "output_type": "stream",
          "name": "stdout",
          "text": [
            "\u001b[1m7/7\u001b[0m \u001b[32m━━━━━━━━━━━━━━━━━━━━\u001b[0m\u001b[37m\u001b[0m \u001b[1m0s\u001b[0m 3ms/step - loss: 0.2620 \n",
            "Loss: 0.2544357180595398\n"
          ]
        }
      ]
    }
  ]
}